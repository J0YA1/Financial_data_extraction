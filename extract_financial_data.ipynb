{
  "nbformat": 4,
  "nbformat_minor": 0,
  "metadata": {
    "colab": {
      "provenance": [],
      "gpuType": "V28"
    },
    "kernelspec": {
      "name": "python3",
      "display_name": "Python 3"
    },
    "language_info": {
      "name": "python"
    },
    "accelerator": "TPU"
  },
  "cells": [
    {
      "cell_type": "code",
      "source": [
        "import fitz  # PyMuPDF\n",
        "from transformers import pipeline\n",
        "import json\n",
        "\n",
        "# Function to extract text from PDF\n",
        "def extract_text_from_pdf(pdf_path):\n",
        "    try:\n",
        "        doc = fitz.open(pdf_path)\n",
        "        text = \"\\n\".join([page.get_text(\"text\") for page in doc])\n",
        "        return text.strip() if text else None\n",
        "    except Exception as e:\n",
        "        print(f\"Error extracting text from PDF: {e}\")\n",
        "        return None\n",
        "\n",
        "# Load the QA model\n",
        "def load_model():\n",
        "    try:\n",
        "        return pipeline(\"question-answering\", model=\"deepset/roberta-base-squad2\")\n",
        "    except Exception as e:\n",
        "        print(f\"Error loading model: {e}\")\n",
        "        return None\n",
        "\n",
        "# Function to extract financial data using the model\n",
        "def extract_financial_data(model, text):\n",
        "    if not model:\n",
        "        print(\"Model is not loaded. Cannot extract financial data.\")\n",
        "        return {}\n",
        "\n",
        "    questions = [\n",
        "        \"What is the company name?\",\n",
        "        \"What is the report date?\",\n",
        "        \"What is the profit before tax?\"\n",
        "    ]\n",
        "\n",
        "    results = {}\n",
        "    for question in questions:\n",
        "        try:\n",
        "            answer = model(question=question, context=text)\n",
        "            results[question] = answer.get('answer', 'Not found')\n",
        "        except Exception as e:\n",
        "            print(f\"Error extracting answer for '{question}': {e}\")\n",
        "            results[question] = \"Error extracting data\"\n",
        "\n",
        "    return results\n",
        "\n",
        "# Function to save results to a JSON file\n",
        "def save_to_json(data, output_path):\n",
        "    try:\n",
        "        with open(output_path, 'w', encoding='utf-8') as json_file:\n",
        "            json.dump(data, json_file, indent=4)\n",
        "        print(f\"Results saved to {output_path}\")\n",
        "    except Exception as e:\n",
        "        print(f\"Error saving JSON file: {e}\")\n",
        "\n",
        "# Main function\n",
        "def main(pdf_path, output_path):\n",
        "    # Extract text from PDF\n",
        "    text = extract_text_from_pdf(pdf_path)\n",
        "    if not text:\n",
        "        print(\"No text extracted from PDF. Exiting.\")\n",
        "        return\n",
        "\n",
        "    # Load the model\n",
        "    model = load_model()\n",
        "    if not model:\n",
        "        print(\"Failed to load model. Exiting.\")\n",
        "        return\n",
        "\n",
        "    # Extract financial data\n",
        "    financial_data = extract_financial_data(model, text)\n",
        "\n",
        "    # Save results to JSON file\n",
        "    save_to_json(financial_data, output_path)\n",
        "\n",
        "    # Print results for reference\n",
        "    print(json.dumps(financial_data, indent=4))\n",
        "\n",
        "# Example usage\n",
        "if __name__ == \"__main__\":\n",
        "    pdf_path = \"/content/1_FinancialResults_05022025142214.pdf\"\n",
        "    output_path = \"/content/financial_data.json\"\n",
        "    main(pdf_path, output_path)\n"
      ],
      "metadata": {
        "colab": {
          "base_uri": "https://localhost:8080/"
        },
        "id": "CL35VGiL1HK9",
        "outputId": "2aa61f56-7d68-4487-aab7-35544633868c"
      },
      "execution_count": 13,
      "outputs": [
        {
          "output_type": "stream",
          "name": "stderr",
          "text": [
            "Device set to use cpu\n"
          ]
        },
        {
          "output_type": "stream",
          "name": "stdout",
          "text": [
            "Results saved to /content/financial_data.json\n",
            "{\n",
            "    \"What is the company name?\": \"Eveready Industries India Ltd\",\n",
            "    \"What is the report date?\": \"February 5, 2025\",\n",
            "    \"What is the profit before tax?\": \"\\n15.93\"\n",
            "}\n"
          ]
        }
      ]
    },
    {
      "cell_type": "code",
      "source": [
        "!pip install PyMuPDF transformers"
      ],
      "metadata": {
        "colab": {
          "base_uri": "https://localhost:8080/"
        },
        "id": "4eoeKzWRDrX4",
        "outputId": "3d1c809e-e2dc-4cc5-bacd-273e4b81622b"
      },
      "execution_count": 1,
      "outputs": [
        {
          "output_type": "stream",
          "name": "stdout",
          "text": [
            "Collecting PyPDF2\n",
            "  Downloading pypdf2-3.0.1-py3-none-any.whl.metadata (6.8 kB)\n",
            "Requirement already satisfied: transformers in /usr/local/lib/python3.11/dist-packages (4.48.3)\n",
            "Requirement already satisfied: filelock in /usr/local/lib/python3.11/dist-packages (from transformers) (3.17.0)\n",
            "Requirement already satisfied: huggingface-hub<1.0,>=0.24.0 in /usr/local/lib/python3.11/dist-packages (from transformers) (0.28.1)\n",
            "Requirement already satisfied: numpy>=1.17 in /usr/local/lib/python3.11/dist-packages (from transformers) (1.26.4)\n",
            "Requirement already satisfied: packaging>=20.0 in /usr/local/lib/python3.11/dist-packages (from transformers) (24.2)\n",
            "Requirement already satisfied: pyyaml>=5.1 in /usr/local/lib/python3.11/dist-packages (from transformers) (6.0.2)\n",
            "Requirement already satisfied: regex!=2019.12.17 in /usr/local/lib/python3.11/dist-packages (from transformers) (2024.11.6)\n",
            "Requirement already satisfied: requests in /usr/local/lib/python3.11/dist-packages (from transformers) (2.32.3)\n",
            "Requirement already satisfied: tokenizers<0.22,>=0.21 in /usr/local/lib/python3.11/dist-packages (from transformers) (0.21.0)\n",
            "Requirement already satisfied: safetensors>=0.4.1 in /usr/local/lib/python3.11/dist-packages (from transformers) (0.5.2)\n",
            "Requirement already satisfied: tqdm>=4.27 in /usr/local/lib/python3.11/dist-packages (from transformers) (4.67.1)\n",
            "Requirement already satisfied: fsspec>=2023.5.0 in /usr/local/lib/python3.11/dist-packages (from huggingface-hub<1.0,>=0.24.0->transformers) (2024.10.0)\n",
            "Requirement already satisfied: typing-extensions>=3.7.4.3 in /usr/local/lib/python3.11/dist-packages (from huggingface-hub<1.0,>=0.24.0->transformers) (4.12.2)\n",
            "Requirement already satisfied: charset-normalizer<4,>=2 in /usr/local/lib/python3.11/dist-packages (from requests->transformers) (3.4.1)\n",
            "Requirement already satisfied: idna<4,>=2.5 in /usr/local/lib/python3.11/dist-packages (from requests->transformers) (3.10)\n",
            "Requirement already satisfied: urllib3<3,>=1.21.1 in /usr/local/lib/python3.11/dist-packages (from requests->transformers) (2.3.0)\n",
            "Requirement already satisfied: certifi>=2017.4.17 in /usr/local/lib/python3.11/dist-packages (from requests->transformers) (2025.1.31)\n",
            "Downloading pypdf2-3.0.1-py3-none-any.whl (232 kB)\n",
            "\u001b[2K   \u001b[90m━━━━━━━━━━━━━━━━━━━━━━━━━━━━━━━━━━━━━━━━\u001b[0m \u001b[32m232.6/232.6 kB\u001b[0m \u001b[31m5.2 MB/s\u001b[0m eta \u001b[36m0:00:00\u001b[0m\n",
            "\u001b[?25hInstalling collected packages: PyPDF2\n",
            "Successfully installed PyPDF2-3.0.1\n"
          ]
        }
      ]
    },
    {
      "cell_type": "code",
      "source": [
        "from google.colab import userdata\n",
        "api_key = userdata.get('YOUR_HUGGING_FACE_API_TOKEN')"
      ],
      "metadata": {
        "id": "Q1sKP1I3E6HB"
      },
      "execution_count": 2,
      "outputs": []
    }
  ]
}